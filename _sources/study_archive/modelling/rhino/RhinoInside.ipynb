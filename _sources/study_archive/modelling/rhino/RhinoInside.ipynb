{
 "cells": [
  {
   "cell_type": "markdown",
   "metadata": {},
   "source": [
    "# Rhino.Inside"
   ]
  }
 ],
 "metadata": {
  "kernelspec": {
   "display_name": "Python 3.9.12 ('base')",
   "language": "python",
   "name": "python3"
  },
  "language_info": {
   "name": "python",
   "version": "3.9.12"
  },
  "orig_nbformat": 4,
  "vscode": {
   "interpreter": {
    "hash": "c7d8fd29d97fe03be12bf9f49e6b069a395ffd1ec4b10d316b2ead07e90c6220"
   }
  }
 },
 "nbformat": 4,
 "nbformat_minor": 2
}
