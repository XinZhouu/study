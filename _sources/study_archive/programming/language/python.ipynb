{
 "cells": [
  {
   "cell_type": "markdown",
   "metadata": {},
   "source": [
    "# \n",
    "<span style=\"font-family:'Ubuntu Medium'; font-size: 2.5em;\">\n",
    "Python Programming\n",
    "</span>\n"
   ]
  },
  {
   "cell_type": "markdown",
   "metadata": {},
   "source": [
    "##\n",
    "<span style=\"font-family:'Ubuntu'; font-size: 2em;\">\n",
    "Decorator\n",
    "</span>"
   ]
  },
  {
   "cell_type": "markdown",
   "metadata": {},
   "source": [
    "###\n",
    "<span style=\"font-family:'Ubuntu Light'; font-size: 1.7em;\">\n",
    "Function Decorator\n",
    "</span>"
   ]
  },
  {
   "cell_type": "markdown",
   "metadata": {},
   "source": [
    "<table>\n",
    "<tr>\n",
    "<th>precedent</th>\n",
    "<th>equivalent1</th>\n",
    "<th>equivalent2</th>\n",
    "</tr>\n",
    "<tr>\n",
    "<td>\n",
    "  \n",
    "```python\n",
    "def repeat(fn):\n",
    "    fn()\n",
    "    fn()\n",
    " \n",
    "def hello_world():\n",
    "    print(\"Hello world!\")\n",
    "    \n",
    "repeat(hello_world)\n",
    "```\n",
    "  \n",
    "</td>\n",
    "<td>\n",
    "\n",
    "```python\n",
    "def repeat_decorator(fn):\n",
    "    def decorated_fn():\n",
    "        fn()\n",
    "        fn()\n",
    "    # returns a function\n",
    "    return decorated_fn\n",
    " \n",
    "def hello_world():\n",
    "    print (\"Hello world!\")\n",
    " \n",
    "hello_world_twice = repeat_decorator(hello_world)\n",
    "hello_world_twice()\n",
    "```\n",
    "\n",
    "</td>\n",
    "<td>\n",
    "\n",
    "```python\n",
    "\n",
    "def repeat_decorator(fn):\n",
    "    def decorated_fn():\n",
    "        fn()\n",
    "        fn()\n",
    "    # returns a function\n",
    "    return decorated_fn\n",
    " \n",
    "def hello_world():\n",
    "    print (\"Hello world!\")\n",
    " \n",
    "hello_world = repeat_decorator(hello_world)\n",
    " \n",
    "# call the function\n",
    "hello_world()\n",
    "```\n",
    "\n",
    "</td>\n",
    "</tr>\n",
    "</table>"
   ]
  },
  {
   "cell_type": "markdown",
   "metadata": {},
   "source": [
    "<table>\n",
    "<tr>\n",
    "<th>decorator</th>\n",
    "<th>decorator with arg</th>\n",
    "</tr>\n",
    "<tr>\n",
    "<td>\n",
    "  \n",
    "```python\n",
    "def repeat_decorator(fn):\n",
    "    def decorated_fn():\n",
    "        fn()\n",
    "        fn()\n",
    "    # returns a function\n",
    "    return decorated_fn\n",
    " \n",
    "# using the decorator on hello_world function\n",
    "@repeat_decorator\n",
    "def hello_world():\n",
    "    print (\"Hello world!\")\n",
    " \n",
    "# call the function\n",
    "hello_world()\n",
    "```\n",
    "  \n",
    "</td>\n",
    "<td>\n",
    "\n",
    "```python\n",
    "def repeat_decorator(num_repeats = 2):\n",
    "    # repeat_decorator should return a function that's a decorator\n",
    "    def inner_decorator(fn):\n",
    "        def decorated_fn():\n",
    "            for i in range(num_repeats):\n",
    "                fn()\n",
    "        # return the new function\n",
    "        return decorated_fn\n",
    "    # return the decorator that actually takes the function in as the input\n",
    "    return inner_decorator\n",
    " \n",
    "# use the decorator with num_repeats argument set as 5 to repeat the function call 5 times\n",
    "@repeat_decorator(5)\n",
    "def hello_world():\n",
    "    print(\"Hello world!\")\n",
    " \n",
    "# call the function\n",
    "hello_world()\n",
    "```\n",
    "\n",
    "</td>\n",
    "</tr>\n",
    "</table>"
   ]
  }
 ],
 "metadata": {
  "kernelspec": {
   "display_name": "Python 3.9.12 ('base')",
   "language": "python",
   "name": "python3"
  },
  "language_info": {
   "codemirror_mode": {
    "name": "ipython",
    "version": 3
   },
   "file_extension": ".py",
   "mimetype": "text/x-python",
   "name": "python",
   "nbconvert_exporter": "python",
   "pygments_lexer": "ipython3",
   "version": "3.9.12"
  },
  "orig_nbformat": 4,
  "vscode": {
   "interpreter": {
    "hash": "40d3a090f54c6569ab1632332b64b2c03c39dcf918b08424e98f38b5ae0af88f"
   }
  }
 },
 "nbformat": 4,
 "nbformat_minor": 2
}
